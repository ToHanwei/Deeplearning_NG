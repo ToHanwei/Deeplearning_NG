{
 "cells": [
  {
   "cell_type": "code",
   "execution_count": 314,
   "metadata": {},
   "outputs": [],
   "source": [
    "import h5py\n",
    "import numpy as np"
   ]
  },
  {
   "cell_type": "code",
   "execution_count": 315,
   "metadata": {},
   "outputs": [],
   "source": [
    "train_data = h5py.File(\"./data/train_catvnoncat.h5\", \"r\")"
   ]
  },
  {
   "cell_type": "code",
   "execution_count": 316,
   "metadata": {},
   "outputs": [],
   "source": [
    "test_data = h5py.File(\"./data/test_catvnoncat.h5\", \"r\")"
   ]
  },
  {
   "cell_type": "code",
   "execution_count": 317,
   "metadata": {},
   "outputs": [],
   "source": [
    "train_set_x = np.array(train_data[\"train_set_x\"])\n",
    "train_set_y = np.array(train_data[\"train_set_y\"])\n",
    "test_set_x = np.array(test_data[\"test_set_x\"])\n",
    "test_set_y = np.array(test_data[\"test_set_y\"])"
   ]
  },
  {
   "cell_type": "code",
   "execution_count": 318,
   "metadata": {},
   "outputs": [],
   "source": [
    "m_train = train_set_x.shape[0]\n",
    "m_test = test_set_x.shape[0]"
   ]
  },
  {
   "cell_type": "code",
   "execution_count": 319,
   "metadata": {},
   "outputs": [],
   "source": [
    "train_x = train_set_x.reshape(m_train, -1).T\n",
    "test_x = test_set_x.reshape(m_test, -1).T\n",
    "train_y = train_set_y.reshape(1, m_train)\n",
    "test_y = test_set_y.reshape(1, m_test)"
   ]
  },
  {
   "cell_type": "code",
   "execution_count": 320,
   "metadata": {},
   "outputs": [],
   "source": [
    "X, Y = train_x/255, train_y"
   ]
  },
  {
   "cell_type": "code",
   "execution_count": 321,
   "metadata": {},
   "outputs": [],
   "source": [
    "def sigmoid(z):\n",
    "    a = 1. / (1 + np.exp(-1.0*z))\n",
    "    return a"
   ]
  },
  {
   "cell_type": "code",
   "execution_count": 326,
   "metadata": {},
   "outputs": [],
   "source": [
    "def porpate(w, b, X, Y):\n",
    "    m = X.shape[1]\n",
    "    A = sigmoid(np.dot(w.T, X)+b)\n",
    "    cost = (-1. / m) * np.sum(Y*np.log(A) + (1-Y)*np.log(1-A), axis=1)\n",
    "    \n",
    "    dw = (1.0/m)*np.dot(X, ((A-Y).T))\n",
    "    db = (1.0/m)*np.sum(A-Y, axis=1)\n",
    "    cost = np.squeeze(cost)\n",
    "    \n",
    "    grads = {\"dw\":dw, \"db\":db}\n",
    "    return grads, cost\n",
    "#     m = X.shape[1]\n",
    "#     A = sigmoid(np.dot(w.T, X) + b)\n",
    "#     cost = (-1. / m) * np.sum(Y*np.log(A) + (1-Y)*np.log(1-A), axis=1)\n",
    "    \n",
    "#     dw = (1./m)*np.dot(X, ((A-Y).T))\n",
    "#     db = (1./m)*np.sum(((A-Y).T), axis=0)\n",
    "    \n",
    "#     assert(dw.shape == w.shape)\n",
    "#     assert(db.dtype == float)\n",
    "#     cost = np.squeeze(cost)\n",
    "#     #print(\"cost:\", cost)\n",
    "    \n",
    "#     grads = {\"dw\" : dw,\n",
    "#             \"db\" : db}\n",
    "#     return grads, cost"
   ]
  },
  {
   "cell_type": "code",
   "execution_count": 327,
   "metadata": {},
   "outputs": [],
   "source": [
    "def optimizated(X, Y, intertions, learning_rate):\n",
    "    w = np.zeros((X.shape[0], 1), dtype=np.float32)\n",
    "    b = 0\n",
    "    \n",
    "    costs = []\n",
    "    for i in range(intertions):\n",
    "        grads, cost = porpate(w, b, X, Y)\n",
    "        dw = grads[\"dw\"]\n",
    "        db = grads[\"db\"]\n",
    "        w = w - learning_rate*dw\n",
    "        b = b - learning_rate*db\n",
    "        \n",
    "        if i % 100 == 0:\n",
    "            costs.append(cost)\n",
    "            print(\"Cost function %d is: %f\" % (i, cost))\n",
    "    params = {\"w\":w, \"b\":b}\n",
    "    grads = {\"dw\":dw, \"db\":db}\n",
    "    return params, grads, costs\n",
    "    "
   ]
  },
  {
   "cell_type": "code",
   "execution_count": 328,
   "metadata": {},
   "outputs": [],
   "source": [
    "def predict(w, b, X):\n",
    "    m = X.shape[1]\n",
    "    Y_prediction = np.zeros((1, m))\n",
    "    A = sigmoid(np.dot(w.T, X) + b)\n",
    "    for i in range(A.shape[1]):\n",
    "        Y_prediction[0, i] = 1 if A[0, i] >=0.5 else 0\n",
    "        \n",
    "    return Y_prediction"
   ]
  },
  {
   "cell_type": "code",
   "execution_count": 329,
   "metadata": {},
   "outputs": [
    {
     "name": "stdout",
     "output_type": "stream",
     "text": [
      "Cost function 0 is: 0.693147\n"
     ]
    },
    {
     "name": "stderr",
     "output_type": "stream",
     "text": [
      "/home/hanwei/soft/anaconda3/lib/python3.7/site-packages/ipykernel_launcher.py:14: RuntimeWarning: divide by zero encountered in log\n",
      "  \n",
      "/home/hanwei/soft/anaconda3/lib/python3.7/site-packages/ipykernel_launcher.py:14: RuntimeWarning: invalid value encountered in multiply\n",
      "  \n"
     ]
    },
    {
     "name": "stdout",
     "output_type": "stream",
     "text": [
      "Cost function 100 is: nan\n",
      "Cost function 200 is: nan\n",
      "Cost function 300 is: nan\n",
      "Cost function 400 is: nan\n",
      "Cost function 500 is: nan\n",
      "Cost function 600 is: nan\n",
      "Cost function 700 is: nan\n",
      "Cost function 800 is: nan\n",
      "Cost function 900 is: nan\n",
      "Cost function 1000 is: nan\n",
      "Cost function 1100 is: nan\n",
      "Cost function 1200 is: nan\n",
      "Cost function 1300 is: nan\n",
      "Cost function 1400 is: nan\n",
      "Cost function 1500 is: nan\n",
      "Cost function 1600 is: nan\n",
      "Cost function 1700 is: nan\n",
      "Cost function 1800 is: nan\n",
      "Cost function 1900 is: nan\n"
     ]
    }
   ],
   "source": [
    "params, grads, costs = optimizated(X, Y, 2000, 0.5)\n",
    "w = params[\"w\"]\n",
    "b = params[\"b\"]"
   ]
  },
  {
   "cell_type": "code",
   "execution_count": 151,
   "metadata": {},
   "outputs": [],
   "source": [
    "Y_prediction = predict(w, b, test_x/255)"
   ]
  },
  {
   "cell_type": "code",
   "execution_count": 156,
   "metadata": {},
   "outputs": [
    {
     "name": "stdout",
     "output_type": "stream",
     "text": [
      "34.0\n"
     ]
    }
   ],
   "source": [
    "print(100 - np.mean(np.abs(Y_prediction-test_y))*100)"
   ]
  },
  {
   "cell_type": "code",
   "execution_count": 177,
   "metadata": {},
   "outputs": [
    {
     "name": "stdout",
     "output_type": "stream",
     "text": [
      "[[1 1 1 1 1 0 1 1 1 1 1 1 1 0 0 1 0 1 1 1 1 0 0 1 1 1 1 0 1 0 1 1 1 1 0 0\n",
      "  0 1 0 0 1 1 1 0 0 0 1 1 1 0]]\n"
     ]
    }
   ],
   "source": [
    "print(test_y)"
   ]
  },
  {
   "cell_type": "code",
   "execution_count": null,
   "metadata": {},
   "outputs": [],
   "source": []
  }
 ],
 "metadata": {
  "kernelspec": {
   "display_name": "Python 3",
   "language": "python",
   "name": "python3"
  },
  "language_info": {
   "codemirror_mode": {
    "name": "ipython",
    "version": 3
   },
   "file_extension": ".py",
   "mimetype": "text/x-python",
   "name": "python",
   "nbconvert_exporter": "python",
   "pygments_lexer": "ipython3",
   "version": "3.7.1"
  }
 },
 "nbformat": 4,
 "nbformat_minor": 2
}
