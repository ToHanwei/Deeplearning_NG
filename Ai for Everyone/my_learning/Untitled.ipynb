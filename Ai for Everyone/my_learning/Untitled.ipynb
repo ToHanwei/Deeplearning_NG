{
 "cells": [
  {
   "cell_type": "code",
   "execution_count": 64,
   "metadata": {},
   "outputs": [],
   "source": [
    "import h5py\n",
    "import numpy as np\n",
    "\n",
    "def load_data():\n",
    "    train_data = h5py.File(\"./data/train_catvnoncat.h5\", \"r\")\n",
    "    test_data = h5py.File(\"./data/test_catvnoncat.h5\", \"r\")\n",
    "\n",
    "    m_train = train_data[\"train_set_y\"].shape[0]\n",
    "    m_test = test_data[\"test_set_y\"].shape[0]\n",
    "\n",
    "    train_set_x_orig = np.array(train_data[\"train_set_x\"])\n",
    "    train_set_y_orig = np.array(train_data[\"train_set_y\"]).reshape((1, m_train))\n",
    "    classes = np.array(train_data[\"list_classes\"])\n",
    "\n",
    "    test_set_x_orig = np.array(test_data[\"test_set_x\"])\n",
    "    test_set_y_orig = np.array(test_data[\"test_set_y\"]).reshape((1, m_test))\n",
    "\n",
    "    return(train_set_x_orig, train_set_y_orig, test_set_x_orig, test_set_y_orig, classes)"
   ]
  },
  {
   "cell_type": "code",
   "execution_count": 65,
   "metadata": {},
   "outputs": [],
   "source": [
    "train_set_x_orig, train_set_y_orig, test_set_x_orig, test_set_y_orig, classes = load_data()"
   ]
  },
  {
   "cell_type": "code",
   "execution_count": 66,
   "metadata": {},
   "outputs": [],
   "source": [
    "#样本个数，m_train训练数据集样本数，m_test测试数据集样本数\n",
    "m_train = train_set_x_orig.shape[0]\n",
    "m_test = test_set_x_orig.shape[0]"
   ]
  },
  {
   "cell_type": "code",
   "execution_count": 67,
   "metadata": {},
   "outputs": [],
   "source": [
    "#整理数据格式\n",
    "train_set_x = train_set_x_orig.reshape((-1, m_train))/255\n",
    "test_set_x = test_set_x_orig.reshape((-1, m_test))/255"
   ]
  },
  {
   "cell_type": "code",
   "execution_count": 68,
   "metadata": {},
   "outputs": [],
   "source": [
    "#sigmoid function\n",
    "\n",
    "def sigmoid(z):\n",
    "    a = 1. / (1 + np.exp(-z))\n",
    "    return a"
   ]
  },
  {
   "cell_type": "code",
   "execution_count": 76,
   "metadata": {},
   "outputs": [],
   "source": [
    "#初始化参数\n",
    "\n",
    "def initialize(*num_w):\n",
    "    assert(len(num_w) == 2)\n",
    "    row, col = num_w\n",
    "    w = np.zeros(num_w)\n",
    "    b = 0\n",
    "    return w, b"
   ]
  },
  {
   "cell_type": "code",
   "execution_count": 77,
   "metadata": {},
   "outputs": [],
   "source": [
    "# 前向传播\n",
    "\n",
    "def propagate(w, b, X, Y):\n",
    "    m = X.shape[1]\n",
    "    Z = np.dot(w.T, X) + b\n",
    "    A = sigmoid(Z)\n",
    "    coss = (-1./m)*np.sum((Y*np.log(A) + (1-Y)*np.log(1-A)), axis =1)\n",
    "    \n",
    "    dw = (1./m)*(np.dot(X, (A-Y).T))\n",
    "    db = (1./m)*np.sum((A-Y), axis=0)\n",
    "    \n",
    "    coss = np.squeeze(coss)\n",
    "    grades = {\"dw\":dw, \"db\":db}\n",
    "    \n",
    "    return grades, coss\n",
    "    "
   ]
  },
  {
   "cell_type": "code",
   "execution_count": 78,
   "metadata": {},
   "outputs": [],
   "source": [
    "#优化\n",
    "\n",
    "def optimize(w, b, X, Y, num_iterations, learning_rate, print_coss=False):\n",
    "    for iters in range(num_iterations):\n",
    "        grades, coss = propagate(w, b, X, Y)\n",
    "        dw, db = grades[\"dw\"], grades[\"db\"]\n",
    "        w = w - learning_rate*dw\n",
    "        b = b - learning_rate*db\n",
    "        if print_coss and (iters%100 == 0):\n",
    "            print(\"Cost after iteration %i: %f\" % (iters, coss))\n",
    "    params = {\"w\":w, \"b\":b}\n",
    "    grades = {\"dw\":dw, \"db\":db}\n",
    "    return params, grades, coss"
   ]
  },
  {
   "cell_type": "code",
   "execution_count": 79,
   "metadata": {},
   "outputs": [
    {
     "name": "stdout",
     "output_type": "stream",
     "text": [
      "Cost after iteration 0: 0.693147\n"
     ]
    },
    {
     "name": "stderr",
     "output_type": "stream",
     "text": [
      "/home/hanwei/soft/anaconda3/lib/python3.7/site-packages/ipykernel_launcher.py:7: RuntimeWarning: divide by zero encountered in log\n",
      "  import sys\n",
      "/home/hanwei/soft/anaconda3/lib/python3.7/site-packages/ipykernel_launcher.py:7: RuntimeWarning: invalid value encountered in multiply\n",
      "  import sys\n"
     ]
    },
    {
     "name": "stdout",
     "output_type": "stream",
     "text": [
      "Cost after iteration 100: nan\n",
      "Cost after iteration 200: nan\n",
      "Cost after iteration 300: nan\n",
      "Cost after iteration 400: nan\n",
      "Cost after iteration 500: nan\n",
      "Cost after iteration 600: nan\n",
      "Cost after iteration 700: nan\n",
      "Cost after iteration 800: 131.197888\n",
      "Cost after iteration 900: nan\n",
      "Cost after iteration 1000: nan\n",
      "Cost after iteration 1100: nan\n",
      "Cost after iteration 1200: nan\n",
      "Cost after iteration 1300: nan\n",
      "Cost after iteration 1400: nan\n",
      "Cost after iteration 1500: nan\n",
      "Cost after iteration 1600: nan\n",
      "Cost after iteration 1700: nan\n",
      "Cost after iteration 1800: nan\n",
      "Cost after iteration 1900: nan\n"
     ]
    }
   ],
   "source": [
    "w, b = initialize(train_set_x.shape[0], 1)\n",
    "params, grades, coss = optimize(w, b, train_set_x, train_set_y_orig, 2000, 0.5, True)"
   ]
  },
  {
   "cell_type": "code",
   "execution_count": null,
   "metadata": {},
   "outputs": [],
   "source": []
  },
  {
   "cell_type": "code",
   "execution_count": null,
   "metadata": {},
   "outputs": [],
   "source": [
    "# 预测\n",
    "\n",
    "def predict(test_):\n",
    "    "
   ]
  }
 ],
 "metadata": {
  "kernelspec": {
   "display_name": "Python 3",
   "language": "python",
   "name": "python3"
  },
  "language_info": {
   "codemirror_mode": {
    "name": "ipython",
    "version": 3
   },
   "file_extension": ".py",
   "mimetype": "text/x-python",
   "name": "python",
   "nbconvert_exporter": "python",
   "pygments_lexer": "ipython3",
   "version": "3.7.1"
  }
 },
 "nbformat": 4,
 "nbformat_minor": 2
}
